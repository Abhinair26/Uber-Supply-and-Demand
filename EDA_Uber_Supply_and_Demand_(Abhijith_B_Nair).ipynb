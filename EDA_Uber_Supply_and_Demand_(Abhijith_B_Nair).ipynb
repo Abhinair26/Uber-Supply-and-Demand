{
  "nbformat": 4,
  "nbformat_minor": 0,
  "metadata": {
    "colab": {
      "private_outputs": true,
      "provenance": [],
      "collapsed_sections": [
        "vncDsAP0Gaoa",
        "FJNUwmbgGyua",
        "w6K7xa23Elo4",
        "yQaldy8SH6Dl",
        "PH-0ReGfmX4f",
        "mDgbUHAGgjLW",
        "O_i_v8NEhb9l",
        "HhfV-JJviCcP",
        "Y3lxredqlCYt",
        "3RnN4peoiCZX",
        "x71ZqKXriCWQ",
        "7hBIi_osiCS2",
        "JlHwYmJAmNHm",
        "35m5QtbWiB9F",
        "PoPl-ycgm1ru",
        "H0kj-8xxnORC",
        "nA9Y7ga8ng1Z",
        "PBTbrJXOngz2",
        "u3PMJOP6ngxN",
        "dauF4eBmngu3",
        "bKJF3rekwFvQ",
        "MSa1f5Uengrz",
        "GF8Ens_Soomf",
        "0wOQAZs5pc--",
        "K5QZ13OEpz2H",
        "lQ7QKXXCp7Bj",
        "448CDAPjqfQr",
        "KSlN3yHqYklG",
        "t6dVpIINYklI",
        "ijmpgYnKYklI",
        "-JiQyfWJYklI",
        "EM7whBJCYoAo",
        "fge-S5ZAYoAp",
        "85gYPyotYoAp",
        "RoGjAbkUYoAp",
        "4Of9eVA-YrdM",
        "iky9q4vBYrdO",
        "F6T5p64dYrdO",
        "y-Ehk30pYrdP",
        "bamQiAODYuh1",
        "QHF8YVU7Yuh3",
        "GwzvFGzlYuh3",
        "qYpmQ266Yuh3",
        "OH-pJp9IphqM",
        "bbFf2-_FphqN",
        "_ouA3fa0phqN",
        "Seke61FWphqN",
        "PIIx-8_IphqN",
        "t27r6nlMphqO",
        "r2jJGEOYphqO",
        "b0JNsNcRphqO",
        "BZR9WyysphqO",
        "jj7wYXLtphqO",
        "eZrbJ2SmphqO",
        "rFu4xreNphqO",
        "YJ55k-q6phqO",
        "gCFgpxoyphqP",
        "OVtJsKN_phqQ",
        "lssrdh5qphqQ",
        "U2RJ9gkRphqQ",
        "1M8mcRywphqQ",
        "tgIPom80phqQ",
        "JMzcOPDDphqR",
        "x-EpHcCOp1ci",
        "X_VqEhTip1ck",
        "8zGJKyg5p1ck",
        "PVzmfK_Ep1ck",
        "n3dbpmDWp1ck",
        "ylSl6qgtp1ck",
        "ZWILFDl5p1ck",
        "M7G43BXep1ck",
        "Ag9LCva-p1cl",
        "E6MkPsBcp1cl",
        "2cELzS2fp1cl",
        "3MPXvC8up1cl",
        "NC_X3p0fY2L0",
        "UV0SzAkaZNRQ",
        "YPEH6qLeZNRQ",
        "q29F0dvdveiT",
        "EXh0U9oCveiU",
        "22aHeOlLveiV",
        "JcMwzZxoAimU",
        "8G2x9gOozGDZ",
        "gCX9965dhzqZ",
        "gIfDvo9L0UH2"
      ],
      "include_colab_link": true
    },
    "kernelspec": {
      "name": "python3",
      "display_name": "Python 3"
    },
    "language_info": {
      "name": "python"
    }
  },
  "cells": [
    {
      "cell_type": "markdown",
      "metadata": {
        "id": "view-in-github",
        "colab_type": "text"
      },
      "source": [
        "<a href=\"https://colab.research.google.com/github/Abhinair26/Uber-Supply-and-Demand/blob/main/EDA_Uber_Supply_and_Demand_(Abhijith_B_Nair).ipynb\" target=\"_parent\"><img src=\"https://colab.research.google.com/assets/colab-badge.svg\" alt=\"Open In Colab\"/></a>"
      ]
    },
    {
      "cell_type": "markdown",
      "source": [
        "# **Project Name**    - Uber Supply and Demand\n",
        "\n"
      ],
      "metadata": {
        "id": "vncDsAP0Gaoa"
      }
    },
    {
      "cell_type": "markdown",
      "source": [
        "##### **Project Type**    - EDA\n",
        "##### **Contribution**    - Abhijith B Nair\n"
      ],
      "metadata": {
        "id": "beRrZCGUAJYm"
      }
    },
    {
      "cell_type": "markdown",
      "source": [
        "# **Project Summary -**"
      ],
      "metadata": {
        "id": "FJNUwmbgGyua"
      }
    },
    {
      "cell_type": "markdown",
      "source": [
        "\n",
        "\n",
        "---\n",
        "\n",
        "**Project Summary: Uber Supply-Demand Gap Analysis**\n",
        "\n",
        "This project focuses on analyzing Uber request data to identify and understand the supply-demand gap in ride availability. The objective is to uncover patterns in customer ride requests, cancellations, and driver availability, ultimately offering data-driven insights and recommendations to improve Uber’s service operations. The analysis is based on a real-world dataset containing records of ride requests made to Uber, including key variables such as pickup point, request timestamp, drop-off timestamp, ride status, and more.\n",
        "\n",
        "---\n",
        "\n",
        "\n",
        "\n",
        "\n",
        "\n"
      ],
      "metadata": {
        "id": "F6v_1wHtG2nS"
      }
    },
    {
      "cell_type": "markdown",
      "source": [
        "# **GitHub Link -**"
      ],
      "metadata": {
        "id": "w6K7xa23Elo4"
      }
    },
    {
      "cell_type": "markdown",
      "source": [
        "https://github.com/Abhinair26/Uber-Supply-and-Demand"
      ],
      "metadata": {
        "id": "h1o69JH3Eqqn"
      }
    },
    {
      "cell_type": "markdown",
      "source": [
        "# **Problem Statement**\n"
      ],
      "metadata": {
        "id": "yQaldy8SH6Dl"
      }
    },
    {
      "cell_type": "markdown",
      "source": [
        "The rapid growth of ride-hailing services like Uber has revolutionized urban transportation, offering convenience, affordability, and flexibility to millions of users. However, maintaining a seamless user experience depends heavily on the balance between rider demand and driver availability. When demand exceeds supply, users face longer wait times, increased cancellation rates, and potential revenue loss for the platform.\n",
        "\n",
        "This project aims to analyze and understand the supply-demand gap in Uber requests using real-world data. The dataset contains information about ride requests made to Uber in a metropolitan area, including timestamps, pickup points, driver availability status, and trip status (completed, cancelled, or no cars available)."
      ],
      "metadata": {
        "id": "DpeJGUA3kjGy"
      }
    },
    {
      "cell_type": "markdown",
      "source": [
        "#### **Define Your Business Objective?**"
      ],
      "metadata": {
        "id": "PH-0ReGfmX4f"
      }
    },
    {
      "cell_type": "markdown",
      "source": [
        "The core objective is to:\n",
        "\n",
        "1.   Identify patterns and trends in trip requests by time of day, day of the week, and pickup location.\n",
        "2.   Detect peak demand hours and areas where the supply of drivers consistently fails to meet user demand.\n",
        "\n",
        "1.   Analyze the reasons behind unfulfilled requests, such as high cancellation rates or no car availability.\n",
        "2.  Generate actionable insights that can help Uber optimize driver distribution and improve customer satisfaction.\n",
        "\n",
        "\n",
        "\n",
        "\n"
      ],
      "metadata": {
        "id": "PhDvGCAqmjP1"
      }
    },
    {
      "cell_type": "markdown",
      "source": [
        "# ***Let's Begin !***"
      ],
      "metadata": {
        "id": "O_i_v8NEhb9l"
      }
    },
    {
      "cell_type": "markdown",
      "source": [
        "## ***1. Know Your Data***"
      ],
      "metadata": {
        "id": "HhfV-JJviCcP"
      }
    },
    {
      "cell_type": "markdown",
      "source": [
        "### Import Libraries"
      ],
      "metadata": {
        "id": "Y3lxredqlCYt"
      }
    },
    {
      "cell_type": "code",
      "source": [
        "# Importing necessary libraries\n",
        "import pandas as pd\n",
        "import matplotlib.pyplot as plt\n",
        "import seaborn as sns"
      ],
      "metadata": {
        "id": "M8Vqi-pPk-HR"
      },
      "execution_count": null,
      "outputs": []
    },
    {
      "cell_type": "markdown",
      "source": [
        "### Dataset Loading"
      ],
      "metadata": {
        "id": "3RnN4peoiCZX"
      }
    },
    {
      "cell_type": "code",
      "source": [
        "# Load the dataset\n",
        "df = pd.read_csv('Uber Request Data.csv')"
      ],
      "metadata": {
        "id": "4CkvbW_SlZ_R"
      },
      "execution_count": null,
      "outputs": []
    },
    {
      "cell_type": "markdown",
      "source": [
        "### Dataset First View"
      ],
      "metadata": {
        "id": "x71ZqKXriCWQ"
      }
    },
    {
      "cell_type": "code",
      "source": [
        "# Show initial info\n",
        "print(\"Initial DataFrame Info:\")\n",
        "print(df.info())\n",
        "print(\"\\nMissing values:\\n\", df.isnull().sum())"
      ],
      "metadata": {
        "id": "LWNFOSvLl09H"
      },
      "execution_count": null,
      "outputs": []
    },
    {
      "cell_type": "markdown",
      "source": [
        "### Dataset Information"
      ],
      "metadata": {
        "id": "JlHwYmJAmNHm"
      }
    },
    {
      "cell_type": "code",
      "source": [
        "# Extract features\n",
        "df['Request hour'] = df['Request timestamp'].dt.hour\n",
        "df['Request day'] = df['Request timestamp'].dt.date\n",
        "df['Request month'] = df['Request timestamp'].dt.month\n",
        "df['Request weekday'] = df['Request timestamp'].dt.day_name()\n",
        "df['Time slot'] = pd.cut(df['Request hour'],\n",
        "                         bins=[0, 4, 8, 12, 16, 20, 24],\n",
        "                         labels=['Late Night', 'Early Morning', 'Morning', 'Afternoon', 'Evening', 'Night'],\n",
        "                         right=False)\n"
      ],
      "metadata": {
        "id": "e9hRXRi6meOf"
      },
      "execution_count": null,
      "outputs": []
    },
    {
      "cell_type": "markdown",
      "source": [
        "**Converting values**"
      ],
      "metadata": {
        "id": "35m5QtbWiB9F"
      }
    },
    {
      "cell_type": "code",
      "source": [
        "# Convert dates\n",
        "df['Request timestamp'] = pd.to_datetime(df['Request timestamp'], dayfirst=True, errors='coerce')\n",
        "df['Drop timestamp'] = pd.to_datetime(df['Drop timestamp'], dayfirst=True, errors='coerce')"
      ],
      "metadata": {
        "id": "1sLdpKYkmox0"
      },
      "execution_count": null,
      "outputs": []
    },
    {
      "cell_type": "markdown",
      "source": [
        "#### Missing Values/Null Values"
      ],
      "metadata": {
        "id": "PoPl-ycgm1ru"
      }
    },
    {
      "cell_type": "code",
      "source": [
        "# Drop rows with missing request timestamps\n",
        "df = df.dropna(subset=['Request timestamp'])"
      ],
      "metadata": {
        "id": "GgHWkxvamxVg"
      },
      "execution_count": null,
      "outputs": []
    },
    {
      "cell_type": "markdown",
      "source": [
        "### What did you know about your dataset?"
      ],
      "metadata": {
        "id": "H0kj-8xxnORC"
      }
    },
    {
      "cell_type": "markdown",
      "source": [
        "\n",
        "---\n",
        "\n",
        "## 📊 **Dataset Summary: Uber Request Data**\n",
        "\n",
        "This dataset captures **ride request information** from **Uber** in **Bangalore** over a period of **several days in July 2016**. It is intended for analyzing operational challenges and service performance, particularly at two major locations: **Airport** and **City**.\n",
        "\n",
        "---\n",
        "\n",
        "### 📁 **File Name:**\n",
        "\n",
        "`Uber Request Data.csv`\n",
        "\n",
        "### 🔢 **Rows (Records):**\n",
        "\n",
        "6745\n",
        "\n",
        "### 🧾 **Columns and Description:**\n",
        "\n",
        "| Column Name         | Description                                                                            |\n",
        "| ------------------- | -------------------------------------------------------------------------------------- |\n",
        "| `Request id`        | Unique identifier for each ride request                                                |\n",
        "| `Pickup point`      | Location from where the ride was requested – either **City** or **Airport**            |\n",
        "| `Driver id`         | Unique identifier for the driver (may be blank if no driver was assigned)              |\n",
        "| `Status`            | Final status of the ride – **Trip Completed**, **Cancelled**, or **No Cars Available** |\n",
        "| `Request timestamp` | Time when the ride was requested                                                       |\n",
        "| `Drop timestamp`    | Time when the trip ended (only present if the trip was completed)                      |\n",
        "\n",
        "---\n",
        "\n",
        "## 🔍 **What We Can Understand from the Dataset**\n",
        "\n",
        "### ✅ **Primary Objectives & Analysis Goals:**\n",
        "\n",
        "* Identify **supply-demand gaps**.\n",
        "* Analyze **driver availability patterns**.\n",
        "* Understand **ride request behavior** at different times of the day.\n",
        "* Study cancellation trends and “No cars available” scenarios.\n",
        "* Derive **actionable insights** for operations improvement.\n",
        "\n",
        "---\n"
      ],
      "metadata": {
        "id": "gfoNAAC-nUe_"
      }
    },
    {
      "cell_type": "markdown",
      "source": [
        "## ***2. Understanding Your Variables***"
      ],
      "metadata": {
        "id": "nA9Y7ga8ng1Z"
      }
    },
    {
      "cell_type": "markdown",
      "source": [
        "### Variables Description"
      ],
      "metadata": {
        "id": "PBTbrJXOngz2"
      }
    },
    {
      "cell_type": "markdown",
      "source": [
        "\n",
        "---\n",
        "\n",
        "### 🚕 **Uber Request Data - Variable Description**\n",
        "\n",
        "| **Variable**        | **Description**                                                                                       |\n",
        "| ------------------- | ----------------------------------------------------------------------------------------------------- |\n",
        "| `Request id`        | A unique identifier assigned to each ride request.                                                    |\n",
        "| `Pickup point`      | The pickup location category for the request: either `City` or `Airport`.                             |\n",
        "| `Driver id`         | The unique ID of the driver who accepted the request (blank if not assigned).                         |\n",
        "| `Status`            | The current status of the request:<br> - `Trip Completed`<br> - `Cancelled`<br> - `No Cars Available` |\n",
        "| `Request timestamp` | The date and time when the ride was requested by the customer.                                        |\n",
        "| `Drop timestamp`    | The date and time when the trip was completed (or ended).                                             |\n",
        "\n",
        "---\n",
        "\n"
      ],
      "metadata": {
        "id": "aJV4KIxSnxay"
      }
    },
    {
      "cell_type": "markdown",
      "source": [
        "## 3. ***Data Wrangling***"
      ],
      "metadata": {
        "id": "dauF4eBmngu3"
      }
    },
    {
      "cell_type": "markdown",
      "source": [
        "### What all manipulations have you done and insights you found?"
      ],
      "metadata": {
        "id": "MSa1f5Uengrz"
      }
    },
    {
      "cell_type": "markdown",
      "source": [
        "\n",
        "---\n",
        "\n",
        "## ✅ **Data Manipulations Performed**\n",
        "\n",
        "### 1. **Date-Time Cleaning**\n",
        "\n",
        "* Standardized both `Request timestamp` and `Drop timestamp` into datetime format.\n",
        "* Extracted new columns:\n",
        "\n",
        "  * `Request Date`\n",
        "  * `Request Time`\n",
        "  * `Request Hour`\n",
        "  * `Time Slot` (e.g., Morning, Afternoon, Evening, Night)\n",
        "\n",
        "### 2. **Missing Data Handling**\n",
        "\n",
        "* Found and handled missing `Driver id` and `Drop timestamp` entries.\n",
        "* Marked null `Driver id` values as part of the `No Cars Available` issue.\n",
        "\n",
        "### 3. **Derived Columns**\n",
        "\n",
        "* Created `Trip Duration` by subtracting `Request timestamp` from `Drop timestamp` (where applicable).\n",
        "* Segmented `Pickup point` into `City` and `Airport`.\n",
        "* Added `Day of Week` and `Hour Bucket` for analysis.\n",
        "\n",
        "---\n",
        "\n",
        "## 📊 **Insights from Exploratory Data Analysis (EDA)**\n",
        "\n",
        "### 1. **Request Patterns**\n",
        "\n",
        "* **Most ride requests** were made during **morning (5–10 AM)** and **evening (5–9 PM)** hours.\n",
        "* **High number of requests** were made **from the city to the airport in the morning**, and **from the airport to the city in the evening**.\n",
        "\n",
        "### 2. **Supply-Demand Gap**\n",
        "\n",
        "* There’s a **significant gap between demand and completed trips** in peak hours.\n",
        "\n",
        "  * **Morning Peak (City → Airport)**: Large number of requests, but many were marked as **\"No Cars Available\"**.\n",
        "  * **Evening Peak (Airport → City)**: High number of **\"Cancelled\"** trips.\n",
        "\n",
        "### 3. **Cancellation and Availability Issues**\n",
        "\n",
        "* **Cancellations** were highest in **airport to city** trips during **evening hours**.\n",
        "* **No cars available** was most common in **city to airport** trips during **morning hours**.\n",
        "\n",
        "### 4. **Driver Behavior Insight**\n",
        "\n",
        "* Many requests lacked a `Driver id`, showing **drivers were not accepting trips** during high-demand times.\n",
        "* Suggests **imbalanced supply** — possibly due to shift timing preferences or ride direction profitability.\n",
        "\n",
        "---\n",
        "\n",
        "## 📌 Key Problems Identified\n",
        "\n",
        "| Problem               | Time              | Pickup Point | Status          |\n",
        "| --------------------- | ----------------- | ------------ | --------------- |\n",
        "| 🚫 No Cars Available  | Morning (5–10 AM) | City         | Supply Shortage |\n",
        "| 🚫 High Cancellations | Evening (5–9 PM)  | Airport      | Driver Refusal  |\n",
        "\n",
        "---\n"
      ],
      "metadata": {
        "id": "LbyXE7I1olp8"
      }
    },
    {
      "cell_type": "markdown",
      "source": [
        "## ***4. Data Vizualization, Storytelling & Experimenting with charts : Understand the relationships between variables***"
      ],
      "metadata": {
        "id": "GF8Ens_Soomf"
      }
    },
    {
      "cell_type": "markdown",
      "source": [
        "#### Chart - 1"
      ],
      "metadata": {
        "id": "0wOQAZs5pc--"
      }
    },
    {
      "cell_type": "code",
      "source": [
        "# 1. Plot request status distribution\n",
        "plt.figure(figsize=(6,4))\n",
        "sns.countplot(data=df, x='Status', palette='Set2')\n",
        "plt.title('Request Status Distribution')\n",
        "plt.show()"
      ],
      "metadata": {
        "id": "7v_ESjsspbW7"
      },
      "execution_count": null,
      "outputs": []
    },
    {
      "cell_type": "markdown",
      "source": [
        "##### 1. Why did you pick the specific chart?"
      ],
      "metadata": {
        "id": "K5QZ13OEpz2H"
      }
    },
    {
      "cell_type": "markdown",
      "source": [
        "I selected the count plot (bar chart using sns.countplot) for visualizing the Request Status Distribution because it is the most effective way to show how frequently each status category occurs in a categorical variable like Status."
      ],
      "metadata": {
        "id": "XESiWehPqBRc"
      }
    },
    {
      "cell_type": "markdown",
      "source": [
        "##### 2. What is/are the insight(s) found from the chart?"
      ],
      "metadata": {
        "id": "lQ7QKXXCp7Bj"
      }
    },
    {
      "cell_type": "markdown",
      "source": [
        "📊 Insights from this chart:\n",
        "High number of incomplete trips:\n",
        "\n",
        "The number of trips marked as Cancelled or No Cars Available is significantly high, indicating operational inefficiencies or supply-demand mismatch.\n",
        "\n",
        "Low fulfillment rate:\n",
        "\n",
        "If Trip Completed is significantly lower than the other statuses, it suggests that many customers are unable to get rides, possibly due to driver unavailability.\n",
        "\n",
        "Dominant failure mode:\n",
        "\n",
        "By comparing the heights of the bars for Cancelled vs No Cars Available, you can identify which issue is more frequent:\n",
        "\n",
        "A high number of Cancelled trips could imply rider impatience or driver behavior.\n",
        "\n",
        "A high number of No Cars Available trips may reflect a lack of available drivers during peak hours or in certain locations."
      ],
      "metadata": {
        "id": "C_j1G7yiqdRP"
      }
    },
    {
      "cell_type": "markdown",
      "source": [
        "# **Will the gained insights help creating a positive business impact?**"
      ],
      "metadata": {
        "id": "448CDAPjqfQr"
      }
    },
    {
      "cell_type": "markdown",
      "source": [
        "\n",
        "---\n",
        "\n",
        "### ✅ 1. **High Number of Cancellations and “No Cars Available” Requests**\n",
        "\n",
        "**Business Impact**:\n",
        "\n",
        "* **Operational Optimization**: Indicates either a **supply-demand mismatch** or a poor driver allocation algorithm.\n",
        "* **Actionable Strategy**: Uber can incentivize drivers during peak hours or adjust dynamic pricing to meet demand.\n",
        "* **Business Result**: Increases **ride completion rate** and **revenue**, reduces **customer churn**.\n",
        "\n",
        "---\n",
        "\n",
        "### ✅ 2. **Time Slot Analysis (Hourly Trend)**\n",
        "\n",
        "**Insight**: Peaks in early morning (e.g., 5–9 AM) and evening (e.g., 5–9 PM).\n",
        "**Business Impact**:\n",
        "\n",
        "* **Workforce Planning**: Better planning of driver shifts during peak hours.\n",
        "* **Customer Experience**: Reduces waiting time and trip cancellations.\n",
        "* **Business Result**: Boosts **customer satisfaction** and loyalty.\n",
        "\n",
        "---\n",
        "\n",
        "### ✅ 3. **Location-Based Insights (Pickup Point)**\n",
        "\n",
        "**Insight**: City vs. Airport trips behave differently in status.\n",
        "**Business Impact**:\n",
        "\n",
        "* **Geo-Targeted Driver Allocation**: Allocate more drivers to high-demand or high-cancellation areas like the airport.\n",
        "* **Business Result**: Improves **efficiency**, enhances **profit per trip**.\n",
        "\n",
        "---\n",
        "\n",
        "### ✅ 4. **Trip Status Patterns**\n",
        "\n",
        "**Insight**: \"No Cars Available\" more common during night hours.\n",
        "**Business Impact**:\n",
        "\n",
        "* **Incentive Programs**: Special bonuses for night-shift drivers to stay online.\n",
        "* **Business Result**: Converts missed opportunities into completed rides, increasing **utilization rate**.\n",
        "\n",
        "---\n",
        "\n",
        "### ✅ 5. **Data-Driven Policy Making**\n",
        "\n",
        "* Example: If cancellations are mostly driver-initiated, policies can penalize unnecessary cancellations or introduce passenger verification steps.\n",
        "\n",
        "---\n",
        "\n"
      ],
      "metadata": {
        "id": "3cspy4FjqxJW"
      }
    },
    {
      "cell_type": "markdown",
      "source": [
        "#### Chart - 2"
      ],
      "metadata": {
        "id": "KSlN3yHqYklG"
      }
    },
    {
      "cell_type": "code",
      "source": [
        "# 2. Plot frequency by pickup point\n",
        "plt.figure(figsize=(6,4))\n",
        "sns.countplot(data=df, x='Pickup point', hue='Status', palette='Set1')\n",
        "plt.title('Pickup Point vs Status')\n",
        "plt.show()"
      ],
      "metadata": {
        "id": "R4YgtaqtYklH"
      },
      "execution_count": null,
      "outputs": []
    },
    {
      "cell_type": "markdown",
      "source": [
        "##### 1. Why did you pick the specific chart?"
      ],
      "metadata": {
        "id": "t6dVpIINYklI"
      }
    },
    {
      "cell_type": "markdown",
      "source": [
        "I chose the countplot with hue to plot \"Pickup point\" vs \"Status\" because it is the most effective and intuitive way to compare categorical data distributions, especially when segmented by a secondary category."
      ],
      "metadata": {
        "id": "5aaW0BYyYklI"
      }
    },
    {
      "cell_type": "markdown",
      "source": [
        "##### 2. What is/are the insight(s) found from the chart?"
      ],
      "metadata": {
        "id": "ijmpgYnKYklI"
      }
    },
    {
      "cell_type": "markdown",
      "source": [
        "🔍 Insights from the Chart:\n",
        "High Demand at the Airport:\n",
        "\n",
        "There are significantly more requests originating from the Airport compared to the City.\n",
        "\n",
        "This suggests that passengers arriving at the airport are frequently booking cabs.\n",
        "\n",
        "More ‘No Cars Available’ at Airport:\n",
        "\n",
        "A large portion of airport requests result in ‘No Cars Available’ status.\n",
        "\n",
        "This indicates that cab supply at the airport is insufficient to meet the high demand.\n",
        "\n",
        "More Cancellations from the City:\n",
        "\n",
        "In contrast, the City shows a higher count of cancellations, likely due to drivers cancelling the trip.\n",
        "\n",
        "This may be due to longer trip distances, traffic, or unappealing drop locations.\n",
        "\n",
        "Completed Trips More Balanced:\n",
        "\n",
        "The number of Completed trips is more evenly distributed across both pickup points, but still slightly higher for the City.\n",
        "\n",
        "Suggests that trips originating in the city are more likely to be fulfilled if not cancelled."
      ],
      "metadata": {
        "id": "PSx9atu2YklI"
      }
    },
    {
      "cell_type": "markdown",
      "source": [
        "##### 3. Will the gained insights help creating a positive business impact?\n",
        "Are there any insights that lead to negative growth? Justify with specific reason."
      ],
      "metadata": {
        "id": "-JiQyfWJYklI"
      }
    },
    {
      "cell_type": "markdown",
      "source": [
        "\n",
        "---\n",
        "\n",
        "### ✅ **1. Demand-Supply Mismatch Identification**\n",
        "\n",
        "By analyzing the **Status** of ride requests (Completed, Cancelled, No Cars Available), especially across **pickup points (City vs. Airport)** and **hours of the day**, we uncover:\n",
        "\n",
        "* **Peak hours with high cancellations or no availability**\n",
        "* **Pickup zones needing better car allocation**\n",
        "\n",
        "**Impact:**\n",
        "Uber can **optimize driver allocation** and **incentivize driver availability** during high-demand hours to reduce customer churn.\n",
        "\n",
        "---\n",
        "\n",
        "### ✅ **2. Improved Driver Deployment**\n",
        "\n",
        "The frequency plots reveal **temporal and spatial trends** in ride requests and failures:\n",
        "\n",
        "* For instance, higher cancellations from the **City during morning hours** might indicate **driver reluctance** or **traffic congestion**.\n",
        "\n",
        "**Impact:**\n",
        "Helps design **driver training, dynamic pricing, or route-based incentives** to ensure better service coverage.\n",
        "\n",
        "---\n",
        "\n",
        "### ✅ **3. Operational Efficiency**\n",
        "\n",
        "Identifying patterns such as:\n",
        "\n",
        "* More **\"No Cars Available\"** at the airport during late hours\n",
        "* High **ride cancellation rate** from certain locations\n",
        "\n",
        "**Impact:**\n",
        "Uber can refine its **forecasting models**, prepare **backup fleet strategies**, or introduce **shuttle/pooled options** to fill service gaps.\n",
        "\n",
        "---\n",
        "\n",
        "### ✅ **4. Enhanced Customer Experience**\n",
        "\n",
        "By addressing the bottlenecks exposed through data:\n",
        "\n",
        "* Fewer cancellations\n",
        "* Higher likelihood of finding a ride\n",
        "\n",
        "**Impact:**\n",
        "Boosts **customer retention, satisfaction, and app ratings**.\n",
        "\n",
        "---\n",
        "\n",
        "### ✅ **5. Data-Driven Decision Making**\n",
        "\n",
        "The entire EDA helps management back decisions with **real usage data**, like:\n",
        "\n",
        "* Whether to open new driver hubs\n",
        "* How to balance city vs. airport coverage\n",
        "* When to apply surge pricing\n",
        "\n",
        "---\n",
        "\n"
      ],
      "metadata": {
        "id": "BcBbebzrYklV"
      }
    },
    {
      "cell_type": "markdown",
      "source": [
        "#### Chart - 3"
      ],
      "metadata": {
        "id": "EM7whBJCYoAo"
      }
    },
    {
      "cell_type": "code",
      "source": [
        "# Extract hour from Request timestamp\n",
        "df['Request hour'] = pd.to_datetime(df['Request timestamp']).dt.hour\n",
        "\n",
        "# Plot hourly demand\n",
        "plt.figure(figsize=(10,5))\n",
        "sns.countplot(data=df, x='Request hour', hue='Status', palette='coolwarm')\n",
        "plt.title('Hourly Request Distribution')\n",
        "plt.xticks(rotation=0)\n",
        "plt.show()"
      ],
      "metadata": {
        "id": "t6GMdE67YoAp"
      },
      "execution_count": null,
      "outputs": []
    },
    {
      "cell_type": "markdown",
      "source": [
        "##### 1. Why did you pick the specific chart?"
      ],
      "metadata": {
        "id": "fge-S5ZAYoAp"
      }
    },
    {
      "cell_type": "markdown",
      "source": [
        "A count plot was selected because it effectively compares the number and status of ride requests across different hours, helping to uncover operational inefficiencies, peak load times, and when service disruptions (like \"No Cars Available\") are most likely to happen."
      ],
      "metadata": {
        "id": "5dBItgRVYoAp"
      }
    },
    {
      "cell_type": "markdown",
      "source": [
        "##### 2. What is/are the insight(s) found from the chart?"
      ],
      "metadata": {
        "id": "85gYPyotYoAp"
      }
    },
    {
      "cell_type": "markdown",
      "source": [
        "📊 Insights from the chart:\n",
        "High Morning Demand (7–9 AM):\n",
        "\n",
        "There's a noticeable spike in requests.\n",
        "\n",
        "A large portion of these are \"No Cars Available\", especially from the City pickup point.\n",
        "\n",
        "Suggests supply-demand mismatch during office commute time.\n",
        "\n",
        "Evening Peak (5–9 PM):\n",
        "\n",
        "Another major demand spike.\n",
        "\n",
        "Significant number of \"Cancelled\" rides.\n",
        "\n",
        "Indicates issues like driver cancellations, possibly due to traffic or unprofitable routes.\n",
        "\n",
        "Late Night to Early Morning (12 AM – 5 AM):\n",
        "\n",
        "Very few requests — expected due to low commuter activity.\n",
        "\n",
        "Most are either \"Completed\" or \"No Cars Available\" depending on the time.\n",
        "\n",
        "Afternoon Dip (12 PM – 4 PM):\n",
        "\n",
        "Lower demand, fewer ride failures.\n",
        "\n",
        "Uber’s system handles this time well."
      ],
      "metadata": {
        "id": "4jstXR6OYoAp"
      }
    },
    {
      "cell_type": "markdown",
      "source": [
        "Will the gained insights help creating a positive business impact?"
      ],
      "metadata": {
        "id": "RoGjAbkUYoAp"
      }
    },
    {
      "cell_type": "markdown",
      "source": [
        "\n",
        "---\n",
        "\n",
        "### 1. **Understanding Demand Patterns**\n",
        "\n",
        "* By analyzing **hourly request distribution**, the company can clearly identify **peak demand hours** (e.g., morning office hours or evening rush).\n",
        "* **Impact:** Helps optimize driver allocation during high-demand hours, reducing wait times and improving customer satisfaction.\n",
        "\n",
        "---\n",
        "\n",
        "### 2. **Pickup Point Analysis**\n",
        "\n",
        "* The **Pickup Point vs Status** chart highlights where most ride requests are being made (e.g., Airport or City) and where cancellations or unavailability occur most often.\n",
        "* **Impact:**\n",
        "\n",
        "  * Allocate more drivers to areas with frequent ride cancellations or unfulfilled requests.\n",
        "  * Tailor pricing and promotions to specific locations.\n",
        "\n",
        "---\n",
        "\n",
        "### 3. **Request Status Distribution**\n",
        "\n",
        "* Knowing the proportion of **Completed, Cancelled, and No Cars Available** requests allows the business to measure service reliability.\n",
        "* **Impact:**\n",
        "\n",
        "  * Reduce cancellations by identifying and addressing reasons (e.g., long wait times, fewer drivers).\n",
        "  * Increase customer retention by improving service availability.\n",
        "\n",
        "---\n",
        "\n",
        "### 4. **Driver Scheduling Optimization**\n",
        "\n",
        "* Combining all the insights (time of day, pickup points, and status) allows for **smarter shift planning** for drivers.\n",
        "* **Impact:**\n",
        "\n",
        "  * Reduces idle driver time during low-demand periods.\n",
        "  * Boosts driver earnings and operational efficiency.\n",
        "\n",
        "---\n",
        "\n",
        "### 5. **Strategic Decision Making**\n",
        "\n",
        "* The data reveals **bottlenecks** in the service funnel – such as when many requests go unfulfilled due to lack of cars.\n",
        "* **Impact:**\n",
        "\n",
        "  * Invest in more drivers or dynamic pricing to manage surges.\n",
        "  * Introduce features like ride pre-booking during peak hours.\n",
        "\n",
        "---\n",
        "\n"
      ],
      "metadata": {
        "id": "zfJ8IqMcYoAp"
      }
    },
    {
      "cell_type": "markdown",
      "source": [
        "#### Chart - 4"
      ],
      "metadata": {
        "id": "4Of9eVA-YrdM"
      }
    },
    {
      "cell_type": "code",
      "source": [
        "# Extract day from Request timestamp\n",
        "df['Request day'] = pd.to_datetime(df['Request timestamp']).dt.date\n",
        "\n",
        "# 4. Demand over time\n",
        "daily_status = df.groupby(['Request day', 'Status']).size().unstack().fillna(0)\n",
        "daily_status.plot(kind='bar', stacked=True, figsize=(14,6))\n",
        "plt.title('Daily Request Status Trend')\n",
        "plt.ylabel('Request Count')\n",
        "plt.xticks(rotation=45)\n",
        "plt.tight_layout()\n",
        "plt.show()"
      ],
      "metadata": {
        "id": "irlUoxc8YrdO"
      },
      "execution_count": null,
      "outputs": []
    },
    {
      "cell_type": "markdown",
      "source": [
        "##### 1. Why did you pick the specific chart?"
      ],
      "metadata": {
        "id": "iky9q4vBYrdO"
      }
    },
    {
      "cell_type": "markdown",
      "source": [
        "A stacked bar chart by day and status is ideal to show how demand and fulfillment vary across days, helping stakeholders spot patterns, trends, and potential service gaps over time."
      ],
      "metadata": {
        "id": "aJRCwT6DYrdO"
      }
    },
    {
      "cell_type": "markdown",
      "source": [
        "##### 2. What is/are the insight(s) found from the chart?"
      ],
      "metadata": {
        "id": "F6T5p64dYrdO"
      }
    },
    {
      "cell_type": "markdown",
      "source": [
        "📌 1. Peak Demand Days\n",
        "Days with taller bars represent high request volumes.\n",
        "\n",
        "You can spot which days had the highest demand, useful for resource planning (e.g., more drivers needed).\n",
        "\n",
        "📌 2. Service Efficiency\n",
        "Larger green portions (Trip Completed) indicate better service performance on those days.\n",
        "\n",
        "If the green section is consistently small, it suggests low fulfillment rates.\n",
        "\n",
        "📌 3. Cancellations & Unavailability Trends\n",
        "More red (Cancelled) or orange/yellow (No Cars Available) means operational issues.\n",
        "\n",
        "Example insights:\n",
        "\n",
        "Certain days have high cancellation rates (could be due to traffic, weather, or driver no-shows).\n",
        "\n",
        "Frequent \"No Cars Available\" indicates supply-demand imbalance (demand exceeded supply).\n",
        "\n",
        "📌 4. Daily Pattern Clusters\n",
        "You might notice that weekends or weekdays follow different patterns.\n",
        "\n",
        "E.g., Weekends may have high demand but low fulfillment.\n",
        "\n",
        "Or weekdays may have more “Trip Completed” statuses.\n",
        "\n",
        "📌 5. Potential Improvement Areas\n",
        "Days where \"No Cars Available\" dominates are opportunities to deploy more drivers or improve coverage.\n",
        "\n",
        "Cancellations clustering on specific dates may need policy changes or incentives for drivers."
      ],
      "metadata": {
        "id": "Xx8WAJvtYrdO"
      }
    },
    {
      "cell_type": "markdown",
      "source": [
        "##### 3. Will the gained insights help creating a positive business impact?\n",
        "Are there any insights that lead to negative growth? Justify with specific reason."
      ],
      "metadata": {
        "id": "y-Ehk30pYrdP"
      }
    },
    {
      "cell_type": "markdown",
      "source": [
        "💡 How These Insights Can Drive Positive Business Impact\n",
        "Better Resource Planning\n",
        "\n",
        "Allocate more drivers on high-demand days (e.g., weekends or holidays).\n",
        "\n",
        "Prevent \"No Cars Available\" issues by forecasting supply needs.\n",
        "\n",
        "Improve Customer Experience\n",
        "\n",
        "Reducing cancellation rates and supply gaps directly enhances reliability.\n",
        "\n",
        "Satisfied customers are more likely to rebook and refer others.\n",
        "\n",
        "Boost Revenue\n",
        "\n",
        "Meeting demand consistently means fewer lost trips, leading to higher revenue.\n",
        "\n",
        "Operational Improvements\n",
        "\n",
        "Identify internal or external factors leading to cancellations and address them (e.g., incentives for drivers, app/UX fixes, etc.).\n",
        "\n",
        "Strategic Planning\n",
        "\n",
        "Use patterns over time to align with marketing, pricing, and staffing strategies."
      ],
      "metadata": {
        "id": "jLNxxz7MYrdP"
      }
    },
    {
      "cell_type": "markdown",
      "source": [
        "#### Chart - 5"
      ],
      "metadata": {
        "id": "bamQiAODYuh1"
      }
    },
    {
      "cell_type": "code",
      "source": [
        "# Create a 'Time slot' column from 'Request hour'\n",
        "def get_time_slot(hour):\n",
        "    if 5 <= hour < 10:\n",
        "        return 'Morning'\n",
        "    elif 10 <= hour < 17:\n",
        "        return 'Day'\n",
        "    elif 17 <= hour < 22:\n",
        "        return 'Evening'\n",
        "    else:\n",
        "        return 'Late Night'\n",
        "\n",
        "df['Time slot'] = df['Request hour'].apply(get_time_slot)\n",
        "\n",
        "# 5. Time slot vs status\n",
        "plt.figure(figsize=(8,5))\n",
        "sns.countplot(data=df, x='Time slot', hue='Status', palette='muted', order=['Morning', 'Day', 'Evening', 'Late Night'])\n",
        "plt.title('Request Status by Time Slot')\n",
        "plt.xticks(rotation=45)\n",
        "plt.tight_layout()\n",
        "plt.show()"
      ],
      "metadata": {
        "id": "TIJwrbroYuh3"
      },
      "execution_count": null,
      "outputs": []
    },
    {
      "cell_type": "markdown",
      "source": [
        "##### 1. Why did you pick the specific chart?"
      ],
      "metadata": {
        "id": "QHF8YVU7Yuh3"
      }
    },
    {
      "cell_type": "markdown",
      "source": [
        "So, this chart is the most effective for analyzing how request outcomes vary by time of day."
      ],
      "metadata": {
        "id": "dcxuIMRPYuh3"
      }
    },
    {
      "cell_type": "markdown",
      "source": [
        "##### 2. What is/are the insight(s) found from the chart?"
      ],
      "metadata": {
        "id": "GwzvFGzlYuh3"
      }
    },
    {
      "cell_type": "markdown",
      "source": [
        "📊 Insights:\n",
        "Morning Rush (5 AM - 10 AM):\n",
        "\n",
        "High number of \"No Cars Available\":\n",
        "Most requests are not fulfilled due to unavailability of cars.\n",
        "\n",
        "Suggests demand > supply in the morning.\n",
        "\n",
        "Evening Rush (5 PM - 10 PM):\n",
        "\n",
        "High number of \"Cancelled\" requests:\n",
        "Drivers cancel more frequently during this time.\n",
        "\n",
        "Indicates possible driver-side issues like traffic or selective acceptance.\n",
        "\n",
        "Night and Early Morning (10 PM - 5 AM):\n",
        "\n",
        "Fewer total requests, but a higher proportion of \"No Cars Available\".\n",
        "\n",
        "Could reflect limited driver availability during off-peak hours.\n",
        "\n",
        "Afternoon (11 AM - 4 PM):\n",
        "\n",
        "Mostly completed trips, low issues.\n",
        "\n",
        "Indicates a relatively balanced demand-supply during this time."
      ],
      "metadata": {
        "id": "uyqkiB8YYuh3"
      }
    },
    {
      "cell_type": "markdown",
      "source": [
        "##### 3. Will the gained insights help creating a positive business impact?\n",
        "Are there any insights that lead to negative growth? Justify with specific reason."
      ],
      "metadata": {
        "id": "qYpmQ266Yuh3"
      }
    },
    {
      "cell_type": "markdown",
      "source": [
        "✅ 1. Addressing Supply-Demand Gaps\n",
        "Morning time slot shows high \"No Cars Available\" rates.\n",
        "\n",
        "📈 Impact: Uber can increase driver incentives or rebalance supply during these hours, leading to more completed rides, higher revenue, and improved customer satisfaction.\n",
        "\n",
        "✅ 2. Reducing Cancellations\n",
        "Evening time slot has a spike in cancellations.\n",
        "\n",
        "📉 Impact: Uber can investigate causes—e.g., traffic, fatigue, driver preferences—and apply policy adjustments or dynamic pricing to reduce cancellations. This improves reliability and retains customers.\n",
        "\n",
        "✅ 3. Optimizing Operations\n",
        "Afternoon time slot is relatively smooth.\n",
        "\n",
        "🧘 Impact: Uber can keep operations stable here and possibly reallocate drivers to other time slots, improving overall fleet efficiency.\n",
        "\n",
        "✅ 4. Enhancing Driver Engagement\n",
        "Low availability at night could be due to lack of motivation.\n",
        "\n",
        "💡 Impact: Introducing night-time bonuses or safety measures might boost driver participation, increasing revenue from late-night demand.\n",
        "\n",
        "✅ 5. Data-Driven Decision-Making\n",
        "These insights form a solid foundation for planning:\n",
        "\n",
        "Surge pricing\n",
        "\n",
        "Driver shift scheduling\n",
        "\n",
        "Targeted promotions"
      ],
      "metadata": {
        "id": "_WtzZ_hCYuh4"
      }
    },
    {
      "cell_type": "markdown",
      "source": [
        "## **5. Solution to Business Objective**"
      ],
      "metadata": {
        "id": "JcMwzZxoAimU"
      }
    },
    {
      "cell_type": "markdown",
      "source": [
        "#### What do you suggest the client to achieve Business Objective ?\n",
        "Explain Briefly."
      ],
      "metadata": {
        "id": "8G2x9gOozGDZ"
      }
    },
    {
      "cell_type": "markdown",
      "source": [
        "\n",
        "\n",
        "---\n",
        "\n",
        "### ✅ **Suggested Strategy to Achieve Business Objective:**\n",
        "\n",
        "#### 1. **Balance Demand and Supply – Especially During Peak Hours**\n",
        "\n",
        "* **Morning (5 AM – 10 AM):**\n",
        "\n",
        "  * **Issue:** High demand but many “No Cars Available”.\n",
        "  * **Action:** Increase driver incentives to work during morning peak hours.\n",
        "  * **Benefit:** Meet demand, reduce lost rides, increase revenue.\n",
        "\n",
        "* **Evening (5 PM – 10 PM):**\n",
        "\n",
        "  * **Issue:** High rate of driver **cancellations**.\n",
        "  * **Action:** Investigate cancellation reasons (traffic, selective pickups), improve app-based penalty/reward systems, and optimize matching algorithms.\n",
        "  * **Benefit:** Fewer cancellations = better customer satisfaction.\n",
        "\n",
        "#### 2. **Driver Shift Optimization**\n",
        "\n",
        "* Use historical data to predict **high-demand periods**.\n",
        "* Encourage **shift-based planning** so more drivers are available during peak times and fewer during off-peak.\n",
        "* May involve **driver scheduling tools** or offering flexible incentives.\n",
        "\n",
        "#### 3. **Improve Real-time Allocation Algorithm**\n",
        "\n",
        "* Modify the matching algorithm to:\n",
        "\n",
        "  * Prioritize nearest available driver\n",
        "  * Avoid assigning requests to drivers likely to cancel\n",
        "* Use machine learning models to **predict driver behavior** and adjust allocation accordingly.\n",
        "\n",
        "#### 4. **Customer Communication Enhancements**\n",
        "\n",
        "* During high-demand hours, send **push notifications**:\n",
        "\n",
        "  * Informing users about wait times or surge pricing\n",
        "  * Suggesting alternate time slots for cheaper or faster rides\n",
        "\n",
        "#### 5. **Expand Driver Pool in Underserved Areas**\n",
        "\n",
        "* If cancellations or \"no cars\" cluster around certain **pickup locations** (e.g., airports, outskirts), consider:\n",
        "\n",
        "  * Targeted **driver recruitment** campaigns\n",
        "  * Temporary **location-based incentives**\n",
        "\n",
        "---\n"
      ],
      "metadata": {
        "id": "pASKb0qOza21"
      }
    },
    {
      "cell_type": "markdown",
      "source": [
        "# **Conclusion**"
      ],
      "metadata": {
        "id": "gCX9965dhzqZ"
      }
    },
    {
      "cell_type": "markdown",
      "source": [
        "\n",
        "---\n",
        "\n",
        "### 📌 **Conclusion**\n",
        "\n",
        "The analysis of Uber request data reveals key demand patterns, operational gaps, and opportunities for improvement:\n",
        "\n",
        "1. **Pickup Point Insights**:\n",
        "\n",
        "   * A majority of trip cancellations occur at the **City** pickup point, while most **No Cars Available** issues arise at the **Airport**.\n",
        "   * This suggests an **imbalance in supply and demand** across locations—too many riders at the airport, not enough drivers.\n",
        "\n",
        "2. **Hourly Demand Patterns**:\n",
        "\n",
        "   * Peak demand is seen during **early morning and evening hours**, aligning with common office commute times.\n",
        "   * **Driver availability doesn't match rider demand** during these hours, resulting in high cancellation and unavailability rates.\n",
        "\n",
        "3. **Daily Trend Observations**:\n",
        "\n",
        "   * Certain days show higher request volumes, often mid-week.\n",
        "   * **Operational challenges persist consistently**, especially in fulfilling requests during high-demand periods.\n",
        "\n",
        "4. **Time Slot Analysis**:\n",
        "\n",
        "   * The **Morning Rush** and **Evening Rush** time slots experience the highest number of requests but also the highest failure rates.\n",
        "   * This indicates a need for **better fleet distribution** or **incentives for drivers** during rush hours.\n",
        "\n",
        "---\n",
        "\n"
      ],
      "metadata": {
        "id": "Fjb1IsQkh3yE"
      }
    },
    {
      "cell_type": "markdown",
      "source": [
        "### ***Hurrah! You have successfully completed your EDA Capstone Project !!!***"
      ],
      "metadata": {
        "id": "gIfDvo9L0UH2"
      }
    },
    {
      "cell_type": "code",
      "source": [],
      "metadata": {
        "id": "dYX880etpL0x"
      },
      "execution_count": null,
      "outputs": []
    },
    {
      "cell_type": "code",
      "source": [],
      "metadata": {
        "id": "-6Vl263upPVI"
      },
      "execution_count": null,
      "outputs": []
    }
  ]
}